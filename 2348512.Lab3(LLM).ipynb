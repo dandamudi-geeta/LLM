{
 "cells": [
  {
   "cell_type": "code",
   "execution_count": 1,
   "metadata": {},
   "outputs": [],
   "source": [
    "from dotenv import load_dotenv\n",
    "from langchain.prompts import PromptTemplate\n",
    "from langchain_core.output_parsers import StrOutputParser\n",
    "from langchain_groq import ChatGroq\n",
    "import os"
   ]
  },
  {
   "cell_type": "code",
   "execution_count": 2,
   "metadata": {},
   "outputs": [
    {
     "name": "stdout",
     "output_type": "stream",
     "text": [
      "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\n"
     ]
    }
   ],
   "source": [
    "load_dotenv()\n",
    "\n",
    "# Retrieve the API key from the environment variable\n",
    "api_key = os.getenv('GROQ_API_KEY')\n",
    "\n",
    "# Print the API key to ensure it is loaded correctly (for debugging purposes, remove this in production)\n",
    "print(api_key)"
   ]
  },
  {
   "cell_type": "code",
   "execution_count": 3,
   "metadata": {},
   "outputs": [],
   "source": [
    "model = ChatGroq(api_key = api_key,model_name = 'gemma-7b-it')"
   ]
  },
  {
   "cell_type": "code",
   "execution_count": 5,
   "metadata": {},
   "outputs": [
    {
     "data": {
      "text/plain": [
       "'**Artificial Intelligence (AI)** is the ability of a computer or machine to perform tasks that typically require human intelligence, such as:\\n\\n- Learning and adapting from experience\\n- Solving problems\\n- Making decisions\\n- Understanding natural language\\n- Performing tasks autonomously\\n\\n**Characteristics of Artificial Intelligence:**\\n\\n- **Learning:** AI systems can learn from data and improve their performance over time.\\n- **Adaptability:** AI systems can adjust to new situations and environments.\\n- **Reasoning:** AI systems can make logical inferences and decisions.\\n- **Creativity:** AI systems can generate new ideas and solutions.\\n- **Self-awareness:** AI systems can understand and reflect on their own actions.\\n\\n**Types of AI:**\\n\\n- **Narrow AI:** Designed for specific tasks, such as playing games or recognizing faces.\\n- **General AI:** Can perform a wide range of tasks, like human intelligence.\\n- **Super AI:** Hypotheothetical AI that surpasses human intelligence in all aspects.\\n\\n**Applications of AI:**\\n\\n- **Healthcare:** Disease diagnosis, drug discovery, personalized medicine\\n- **Finance:** Fraud detection, risk assessment, automated trading\\n- **Transportation:** Autonomous vehicles, traffic optimization, predictive maintenance\\n- **Customer service:** Chatbots, virtual assistants, sentiment analysis\\n- **Education:** Personalized learning platforms, automated grading\\n\\n**Advantages of AI:**\\n\\n- Increased efficiency and productivity\\n- Improved decision-making\\n- Automation of tasks\\n- Personalized experiences\\n- Continuous learning and improvement\\n\\n**Disadvantages of AI:**\\n\\n- Job displacement concerns\\n- Privacy and security risks\\n- Lack of transparency and accountability\\n- Potential for bias and discrimination\\n- Ethical considerations\\n\\n**Future of AI:**\\n\\nAI is expected to continue advancing rapidly, leading to transformative technologies in various fields. Future applications include:\\n\\n- Brain-computer interfaces\\n- Quantum AI\\n- Explainable AI\\n- Human-AI collaboration\\n\\n**Conclusion:**\\n\\nAI is a transformative technology with vast potential to improve human lives. As AI capabilities continue to evolve, we can expect to witness even more innovative applications and advancements in the years to come.'"
      ]
     },
     "execution_count": 5,
     "metadata": {},
     "output_type": "execute_result"
    }
   ],
   "source": [
    "parser = StrOutputParser()\n",
    "chain = model | parser\n",
    "chain.invoke('what is Artificial intelligence')"
   ]
  },
  {
   "cell_type": "code",
   "execution_count": 6,
   "metadata": {},
   "outputs": [],
   "source": [
    "template = (\n",
    "    \"\"\"\n",
    "    you're a story telling expert\n",
    "answer : {answer}\n",
    "\"\"\"\n",
    ")"
   ]
  },
  {
   "cell_type": "code",
   "execution_count": 7,
   "metadata": {},
   "outputs": [],
   "source": [
    "prompt = PromptTemplate.from_template(template=template)"
   ]
  },
  {
   "cell_type": "code",
   "execution_count": 8,
   "metadata": {},
   "outputs": [],
   "source": [
    "chain =  prompt | model | parser"
   ]
  },
  {
   "cell_type": "code",
   "execution_count": 10,
   "metadata": {},
   "outputs": [],
   "source": [
    "answer = \"\"\" \n",
    "Process of turning caterpiller into butterfly\n",
    "\"\"\""
   ]
  },
  {
   "cell_type": "code",
   "execution_count": 11,
   "metadata": {},
   "outputs": [
    {
     "name": "stdout",
     "output_type": "stream",
     "text": [
      "## The Transformation of a Caterpillar into a Butterfly\n",
      "\n",
      "**Step 1: Exhaustion and Slumber**\n",
      "\n",
      "The plump caterpillar, having feasted its fill on leaves, grows weary. Its energy wanes, and it seeks a quiet place to rest. Burying itself in a soft, cozy leaf litter, the caterpillar enters a state of slumber.\n",
      "\n",
      "**Step 2: Metamorphosis Begins**\n",
      "\n",
      "Within the silent slumber, something magical happens. The caterpillar's cells undergo a profound transformation. Proteins are broken down, and a new genetic material takes hold. The caterpillar's body begins to reshape, its limbs dissolving and its internal organs rearranging.\n",
      "\n",
      "**Step 3: The Enigma of the Pupa**\n",
      "\n",
      "The caterpillar's outer shell, once protective, now becomes a hindrance. It splits open, revealing a delicate, vulnerable pupa. Within this protective casing, the creature undergoes its most significant metamorphosis. Its tissues regenerate, its wings begin to form, and organs solidify.\n",
      "\n",
      "**Step 4: Emergence and Unfolding**\n",
      "\n",
      "After a period of quiet development, the transformation is complete. The once-slumbering caterpillar emerges from its pupal case, a plump, wingless creature. But this is just the beginning.\n",
      "\n",
      "**Step 5: The Final Ascent**\n",
      "\n",
      "Slowly but surely, wings begin to unfold. Each delicate wing, with its intricate patterns, is a testament to the caterpillar's remarkable journey. The caterpillar's legs vanish, and its body undergoes another reshape, becoming slender and streamlined.\n",
      "\n",
      "**Step 6: Freedom and Flight**\n",
      "\n",
      "With a gentle push, the newly formed butterfly spreads its wings and takes its first tentative flights. The once voracious caterpillar is now a graceful flier, sipping nectar from flowers and dancing among the blooms.\n",
      "\n",
      "**The Result**\n",
      "\n",
      "The once ordinary caterpillar has become a stunning butterfly, a testament to the incredible process of metamorphosis. Its journey from tiny worm to vibrant creature is a reminder of the boundless potential within every living thing.\n"
     ]
    },
    {
     "ename": "",
     "evalue": "",
     "output_type": "error",
     "traceback": [
      "\u001b[1;31mThe Kernel crashed while executing code in the current cell or a previous cell. \n",
      "\u001b[1;31mPlease review the code in the cell(s) to identify a possible cause of the failure. \n",
      "\u001b[1;31mClick <a href='https://aka.ms/vscodeJupyterKernelCrash'>here</a> for more info. \n",
      "\u001b[1;31mView Jupyter <a href='command:jupyter.viewOutput'>log</a> for further details."
     ]
    }
   ],
   "source": [
    "result = chain.invoke({'answer':answer})\n",
    "print(result)"
   ]
  },
  {
   "cell_type": "code",
   "execution_count": null,
   "metadata": {},
   "outputs": [],
   "source": []
  }
 ],
 "metadata": {
  "kernelspec": {
   "display_name": "Python 3",
   "language": "python",
   "name": "python3"
  },
  "language_info": {
   "codemirror_mode": {
    "name": "ipython",
    "version": 3
   },
   "file_extension": ".py",
   "mimetype": "text/x-python",
   "name": "python",
   "nbconvert_exporter": "python",
   "pygments_lexer": "ipython3",
   "version": "3.11.5"
  }
 },
 "nbformat": 4,
 "nbformat_minor": 2
}
